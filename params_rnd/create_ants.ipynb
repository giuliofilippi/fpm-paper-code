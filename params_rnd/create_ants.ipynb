{
 "cells": [
  {
   "cell_type": "markdown",
   "metadata": {},
   "source": [
    "# Imports"
   ]
  },
  {
   "cell_type": "code",
   "execution_count": 1,
   "metadata": {},
   "outputs": [],
   "source": [
    "# imports\n",
    "import sys\n",
    "sys.path.append('..')\n",
    "import numpy as np\n",
    "from functions import *\n",
    "from networks import *\n",
    "from generate import *\n",
    "from tqdm import tqdm"
   ]
  },
  {
   "cell_type": "code",
   "execution_count": 2,
   "metadata": {},
   "outputs": [
    {
     "name": "stdout",
     "output_type": "stream",
     "text": [
      "New Working Directory: /Users/giuliofilippi/Documents/Code/fpm-study/params_rnd\n"
     ]
    }
   ],
   "source": [
    "import os\n",
    "# Change to the directory where the train folder is located\n",
    "os.chdir('../params_rnd')\n",
    "# Verify the change\n",
    "print(\"New Working Directory:\", os.getcwd())"
   ]
  },
  {
   "cell_type": "markdown",
   "metadata": {},
   "source": [
    "# Single Downsampled Colony (Base Params)"
   ]
  },
  {
   "cell_type": "code",
   "execution_count": 3,
   "metadata": {},
   "outputs": [],
   "source": [
    "# params\n",
    "input_shape = (20,90)  # Example image shape\n",
    "n_vpn = input_shape[0]*input_shape[1]\n",
    "n_kc = 25000  # Number of Kenyon cells / 2\n",
    "k = 8  # Number of connections per Kenyon cell\n",
    "p = 0.05  # Proportion of strongest firing neurons to keep\n",
    "alpha = 0.95 # Multiplicative factor for decerasing weights\n",
    "mode = 'top'\n",
    "q = 0.8"
   ]
  },
  {
   "cell_type": "code",
   "execution_count": 4,
   "metadata": {},
   "outputs": [
    {
     "name": "stderr",
     "output_type": "stream",
     "text": [
      "100%|██████████| 50/50 [09:15<00:00, 11.12s/it]\n"
     ]
    }
   ],
   "source": [
    "# 50 initialisations\n",
    "for i in tqdm(range(50)):\n",
    "    w_l, w_r = generate_rnd_weights(n_vpn, n_kc, k, q)\n",
    "    torch.save(w_l,'DS/ant_{}_L.pth'.format(i))\n",
    "    torch.save(w_r,'DS/ant_{}_R.pth'.format(i))"
   ]
  },
  {
   "cell_type": "code",
   "execution_count": 5,
   "metadata": {},
   "outputs": [],
   "source": [
    "# Combine parameters into a single string\n",
    "params_to_write = f\"n_vpn: {n_vpn}\\nn_kc: {n_kc}\\nk: {k}\\np: {p}\\nq: {q}\"\n",
    "\n",
    "# Step 2: Open a text file in write mode\n",
    "with open(\"DS/parameters.txt\", \"w\") as file:\n",
    "    # Step 3: Write the parameters to the file\n",
    "    file.write(params_to_write)"
   ]
  },
  {
   "cell_type": "code",
   "execution_count": null,
   "metadata": {},
   "outputs": [],
   "source": []
  },
  {
   "cell_type": "code",
   "execution_count": null,
   "metadata": {},
   "outputs": [],
   "source": []
  },
  {
   "cell_type": "code",
   "execution_count": null,
   "metadata": {},
   "outputs": [],
   "source": []
  },
  {
   "cell_type": "code",
   "execution_count": null,
   "metadata": {},
   "outputs": [],
   "source": []
  },
  {
   "cell_type": "code",
   "execution_count": null,
   "metadata": {},
   "outputs": [],
   "source": []
  },
  {
   "cell_type": "code",
   "execution_count": null,
   "metadata": {},
   "outputs": [],
   "source": []
  },
  {
   "cell_type": "code",
   "execution_count": null,
   "metadata": {},
   "outputs": [],
   "source": []
  }
 ],
 "metadata": {
  "kernelspec": {
   "display_name": "antworld",
   "language": "python",
   "name": "python3"
  },
  "language_info": {
   "codemirror_mode": {
    "name": "ipython",
    "version": 3
   },
   "file_extension": ".py",
   "mimetype": "text/x-python",
   "name": "python",
   "nbconvert_exporter": "python",
   "pygments_lexer": "ipython3",
   "version": "3.8.18"
  }
 },
 "nbformat": 4,
 "nbformat_minor": 2
}
