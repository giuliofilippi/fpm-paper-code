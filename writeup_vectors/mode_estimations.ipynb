{
 "cells": [
  {
   "cell_type": "markdown",
   "metadata": {},
   "source": [
    "# Imports"
   ]
  },
  {
   "cell_type": "code",
   "execution_count": 13,
   "metadata": {},
   "outputs": [],
   "source": [
    "# imports\n",
    "import sys\n",
    "sys.path.append('..')\n",
    "import numpy as np\n",
    "import cv2\n",
    "import matplotlib.pyplot as plt"
   ]
  },
  {
   "cell_type": "code",
   "execution_count": 14,
   "metadata": {},
   "outputs": [
    {
     "name": "stdout",
     "output_type": "stream",
     "text": [
      "New Working Directory: /Users/gf244AA/Desktop/Code/fpm-paper/writeup_vectors\n"
     ]
    }
   ],
   "source": [
    "import os\n",
    "# Change to the directory where the train folder is located\n",
    "os.chdir('../writeup_vectors')\n",
    "# Verify the change\n",
    "print(\"New Working Directory:\", os.getcwd())"
   ]
  },
  {
   "cell_type": "code",
   "execution_count": 15,
   "metadata": {},
   "outputs": [],
   "source": [
    "# import matplotlib\n",
    "import matplotlib.pyplot as plt\n",
    "\n",
    "# format sizes\n",
    "SMALL_SIZE = 12\n",
    "MEDIUM_SIZE = 14\n",
    "BIGGER_SIZE = 15\n",
    "\n",
    "# matplotlib params\n",
    "plt.rc('font', size=SMALL_SIZE)          # controls default text sizes\n",
    "plt.rc('axes', titlesize=MEDIUM_SIZE)     # fontsize of the axes title\n",
    "plt.rc('axes', labelsize=MEDIUM_SIZE)    # fontsize of the x and y labels\n",
    "plt.rc('xtick', labelsize=MEDIUM_SIZE)    # fontsize of the tick labels\n",
    "plt.rc('ytick', labelsize=MEDIUM_SIZE)    # fontsize of the tick labels\n",
    "plt.rc('legend', fontsize=SMALL_SIZE)    # legend fontsize\n",
    "plt.rc('figure', titlesize=BIGGER_SIZE)  # fontsize of the figure title\n",
    "plt.rcParams['xtick.direction'] = 'out' # ticks points outwards\n",
    "plt.rcParams['lines.linewidth'] = 2.0 # bigger linewidth\n",
    "plt.rcParams['svg.fonttype'] = 'none' # matplotlib svg text setting"
   ]
  },
  {
   "cell_type": "code",
   "execution_count": 16,
   "metadata": {},
   "outputs": [],
   "source": [
    "def find_red_box_mode(image_path, x_range=(-67, 200)):\n",
    "    \"\"\"\n",
    "    Detect the red box in the histogram image and estimate the mode's x-position.\n",
    "    \n",
    "    Parameters:\n",
    "    - image_path: Path to the image file containing the histogram with a red box.\n",
    "    - x_range: Tuple indicating the range of the x-axis in the histogram.\n",
    "    \n",
    "    Returns:\n",
    "    - mode_value: Estimated mode value on the x-axis.\n",
    "    \"\"\"\n",
    "    # Load the image in BGR format (default for OpenCV)\n",
    "    img = cv2.imread(image_path)\n",
    "    \n",
    "    # Convert the image to HSV color space (easier to detect red)\n",
    "    hsv = cv2.cvtColor(img, cv2.COLOR_BGR2HSV)\n",
    "    \n",
    "    # Define the range for detecting red color in HSV\n",
    "    lower_red1 = np.array([0, 100, 100])  # Lower range for red\n",
    "    upper_red1 = np.array([10, 255, 255])  # Upper range for red\n",
    "    lower_red2 = np.array([160, 100, 100])  # Second lower range for red (wraps around in HSV)\n",
    "    upper_red2 = np.array([180, 255, 255])  # Second upper range for red\n",
    "    \n",
    "    # Create a mask for red (considering both red ranges)\n",
    "    mask1 = cv2.inRange(hsv, lower_red1, upper_red1)\n",
    "    mask2 = cv2.inRange(hsv, lower_red2, upper_red2)\n",
    "    mask = cv2.bitwise_or(mask1, mask2)\n",
    "    \n",
    "    # Find contours of the red area\n",
    "    contours, _ = cv2.findContours(mask, cv2.RETR_EXTERNAL, cv2.CHAIN_APPROX_SIMPLE)\n",
    "    \n",
    "    if len(contours) == 0:\n",
    "        raise ValueError(\"No red box found in the image\")\n",
    "    \n",
    "    # Assume the largest contour corresponds to the red box\n",
    "    largest_contour = max(contours, key=cv2.contourArea)\n",
    "    \n",
    "    # Get the bounding box of the red box\n",
    "    x, y, w, h = cv2.boundingRect(largest_contour)\n",
    "    \n",
    "    # Calculate the center of the red box in pixel coordinates\n",
    "    center_x_position = x + w // 2\n",
    "    \n",
    "    # Map the x position to the actual range of the x-axis (-67 to 200)\n",
    "    img_width = img.shape[1]  # Width of the image (number of pixels in x-axis)\n",
    "    mode_value = x_range[0] + (center_x_position / img_width) * (x_range[1] - x_range[0])\n",
    "    \n",
    "    return mode_value"
   ]
  },
  {
   "cell_type": "markdown",
   "metadata": {},
   "source": [
    "# Dist 1A"
   ]
  },
  {
   "cell_type": "code",
   "execution_count": 17,
   "metadata": {},
   "outputs": [
    {
     "data": {
      "text/plain": [
       "34.724793388429745"
      ]
     },
     "execution_count": 17,
     "metadata": {},
     "output_type": "execute_result"
    }
   ],
   "source": [
    "# Path\n",
    "image_path = 'exp_dist_modes/distribution_1a.png'\n",
    "\n",
    "# Get the mode\n",
    "find_red_box_mode(image_path, x_range=(-67, 200))"
   ]
  },
  {
   "cell_type": "markdown",
   "metadata": {},
   "source": [
    "# Dist 1B"
   ]
  },
  {
   "cell_type": "code",
   "execution_count": 18,
   "metadata": {},
   "outputs": [
    {
     "data": {
      "text/plain": [
       "16.299586776859513"
      ]
     },
     "execution_count": 18,
     "metadata": {},
     "output_type": "execute_result"
    }
   ],
   "source": [
    "# Path\n",
    "image_path = 'exp_dist_modes/distribution_1b.png'\n",
    "\n",
    "# Get the mode\n",
    "find_red_box_mode(image_path, x_range=(-67, 200))"
   ]
  },
  {
   "cell_type": "markdown",
   "metadata": {},
   "source": [
    "# Dist 1C"
   ]
  },
  {
   "cell_type": "code",
   "execution_count": 19,
   "metadata": {},
   "outputs": [
    {
     "data": {
      "text/plain": [
       "30.14114238410596"
      ]
     },
     "execution_count": 19,
     "metadata": {},
     "output_type": "execute_result"
    }
   ],
   "source": [
    "# Path\n",
    "image_path = 'exp_dist_modes/distribution_1c.png'\n",
    "\n",
    "# Get the mode\n",
    "find_red_box_mode(image_path, x_range=(-67, 200))"
   ]
  },
  {
   "cell_type": "markdown",
   "metadata": {},
   "source": [
    "# Dist 2A/2D"
   ]
  },
  {
   "cell_type": "code",
   "execution_count": 20,
   "metadata": {},
   "outputs": [
    {
     "data": {
      "text/plain": [
       "50.48457583547557"
      ]
     },
     "execution_count": 20,
     "metadata": {},
     "output_type": "execute_result"
    }
   ],
   "source": [
    "# Path\n",
    "image_path = 'exp_dist_modes/distribution_2a.png'\n",
    "\n",
    "# Get the mode\n",
    "find_red_box_mode(image_path, x_range=(-67, 200))\n"
   ]
  },
  {
   "cell_type": "markdown",
   "metadata": {},
   "source": [
    "# Dist 2B/2E"
   ]
  },
  {
   "cell_type": "code",
   "execution_count": 21,
   "metadata": {},
   "outputs": [
    {
     "data": {
      "text/plain": [
       "70.27506426735218"
      ]
     },
     "execution_count": 21,
     "metadata": {},
     "output_type": "execute_result"
    }
   ],
   "source": [
    "# Path\n",
    "image_path = 'exp_dist_modes/distribution_2b.png'\n",
    "\n",
    "# Get the mode\n",
    "find_red_box_mode(image_path, x_range=(-67, 200))\n"
   ]
  },
  {
   "cell_type": "markdown",
   "metadata": {},
   "source": [
    "# Dist 2C"
   ]
  },
  {
   "cell_type": "code",
   "execution_count": 22,
   "metadata": {},
   "outputs": [
    {
     "data": {
      "text/plain": [
       "74.2789203084833"
      ]
     },
     "execution_count": 22,
     "metadata": {},
     "output_type": "execute_result"
    }
   ],
   "source": [
    "# Path\n",
    "image_path = 'exp_dist_modes/distribution_2c.png'\n",
    "\n",
    "# Get the mode\n",
    "find_red_box_mode(image_path, x_range=(-67, 200))\n"
   ]
  },
  {
   "cell_type": "markdown",
   "metadata": {},
   "source": [
    "# Dist 3A1"
   ]
  },
  {
   "cell_type": "code",
   "execution_count": 23,
   "metadata": {},
   "outputs": [
    {
     "data": {
      "text/plain": [
       "25.006756756756744"
      ]
     },
     "execution_count": 23,
     "metadata": {},
     "output_type": "execute_result"
    }
   ],
   "source": [
    "# Path\n",
    "image_path = 'exp_dist_modes/distribution_3a1.png'\n",
    "\n",
    "# Get the mode\n",
    "find_red_box_mode(image_path, x_range=(-67, 200))\n"
   ]
  },
  {
   "cell_type": "markdown",
   "metadata": {},
   "source": [
    "# Dist 3A2"
   ]
  },
  {
   "cell_type": "code",
   "execution_count": 24,
   "metadata": {},
   "outputs": [
    {
     "data": {
      "text/plain": [
       "33.33528352835283"
      ]
     },
     "execution_count": 24,
     "metadata": {},
     "output_type": "execute_result"
    }
   ],
   "source": [
    "# Path\n",
    "image_path = 'exp_dist_modes/distribution_3a2.png'\n",
    "\n",
    "# Get the mode\n",
    "find_red_box_mode(image_path, x_range=(-67, 200))"
   ]
  },
  {
   "cell_type": "markdown",
   "metadata": {},
   "source": [
    "# Dist 3A3"
   ]
  },
  {
   "cell_type": "code",
   "execution_count": 25,
   "metadata": {},
   "outputs": [
    {
     "data": {
      "text/plain": [
       "24.72122302158273"
      ]
     },
     "execution_count": 25,
     "metadata": {},
     "output_type": "execute_result"
    }
   ],
   "source": [
    "# Path\n",
    "image_path = 'exp_dist_modes/distribution_3a3.png'\n",
    "\n",
    "# Get the mode\n",
    "find_red_box_mode(image_path, x_range=(-67, 200))"
   ]
  },
  {
   "cell_type": "markdown",
   "metadata": {},
   "source": [
    "# Dist 3B1"
   ]
  },
  {
   "cell_type": "code",
   "execution_count": 26,
   "metadata": {},
   "outputs": [
    {
     "data": {
      "text/plain": [
       "35.257875787578755"
      ]
     },
     "execution_count": 26,
     "metadata": {},
     "output_type": "execute_result"
    }
   ],
   "source": [
    "# Path\n",
    "image_path = 'exp_dist_modes/distribution_3b1.png'\n",
    "\n",
    "# Get the mode\n",
    "find_red_box_mode(image_path, x_range=(-67, 200))"
   ]
  },
  {
   "cell_type": "markdown",
   "metadata": {},
   "source": [
    "# Dist 3B2"
   ]
  },
  {
   "cell_type": "code",
   "execution_count": 27,
   "metadata": {},
   "outputs": [
    {
     "data": {
      "text/plain": [
       "75.52840396753831"
      ]
     },
     "execution_count": 27,
     "metadata": {},
     "output_type": "execute_result"
    }
   ],
   "source": [
    "# Path\n",
    "image_path = 'exp_dist_modes/distribution_3b2.png'\n",
    "\n",
    "# Get the mode\n",
    "find_red_box_mode(image_path, x_range=(-67, 200))"
   ]
  },
  {
   "cell_type": "markdown",
   "metadata": {},
   "source": [
    "# Dist 3B3"
   ]
  },
  {
   "cell_type": "code",
   "execution_count": 28,
   "metadata": {},
   "outputs": [
    {
     "data": {
      "text/plain": [
       "34.81182310469313"
      ]
     },
     "execution_count": 28,
     "metadata": {},
     "output_type": "execute_result"
    }
   ],
   "source": [
    "# Path\n",
    "image_path = 'exp_dist_modes/distribution_3b3.png'\n",
    "\n",
    "# Get the mode\n",
    "find_red_box_mode(image_path, x_range=(-67, 200))"
   ]
  },
  {
   "cell_type": "markdown",
   "metadata": {},
   "source": [
    "# Dist 3C1"
   ]
  },
  {
   "cell_type": "code",
   "execution_count": 29,
   "metadata": {},
   "outputs": [
    {
     "data": {
      "text/plain": [
       "55.408408408408405"
      ]
     },
     "execution_count": 29,
     "metadata": {},
     "output_type": "execute_result"
    }
   ],
   "source": [
    "# Path\n",
    "image_path = 'exp_dist_modes/distribution_3c1.png'\n",
    "\n",
    "# Get the mode\n",
    "find_red_box_mode(image_path, x_range=(-67, 200))"
   ]
  },
  {
   "cell_type": "markdown",
   "metadata": {},
   "source": [
    "# Dist 3C2"
   ]
  },
  {
   "cell_type": "code",
   "execution_count": 30,
   "metadata": {},
   "outputs": [
    {
     "data": {
      "text/plain": [
       "64.89478957915833"
      ]
     },
     "execution_count": 30,
     "metadata": {},
     "output_type": "execute_result"
    }
   ],
   "source": [
    "# Path\n",
    "image_path = 'exp_dist_modes/distribution_3c2.png'\n",
    "\n",
    "# Get the mode\n",
    "find_red_box_mode(image_path, x_range=(-67, 200))"
   ]
  },
  {
   "cell_type": "markdown",
   "metadata": {},
   "source": [
    "# Dist 3C3"
   ]
  },
  {
   "cell_type": "code",
   "execution_count": 31,
   "metadata": {},
   "outputs": [
    {
     "data": {
      "text/plain": [
       "43.78228228228228"
      ]
     },
     "execution_count": 31,
     "metadata": {},
     "output_type": "execute_result"
    }
   ],
   "source": [
    "# Path\n",
    "image_path = 'exp_dist_modes/distribution_3c3.png'\n",
    "\n",
    "# Get the mode\n",
    "find_red_box_mode(image_path, x_range=(-67, 200))"
   ]
  }
 ],
 "metadata": {
  "kernelspec": {
   "display_name": "antworld",
   "language": "python",
   "name": "python3"
  },
  "language_info": {
   "codemirror_mode": {
    "name": "ipython",
    "version": 3
   },
   "file_extension": ".py",
   "mimetype": "text/x-python",
   "name": "python",
   "nbconvert_exporter": "python",
   "pygments_lexer": "ipython3",
   "version": "3.8.19"
  }
 },
 "nbformat": 4,
 "nbformat_minor": 2
}
