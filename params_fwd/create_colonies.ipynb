{
 "cells": [
  {
   "cell_type": "markdown",
   "metadata": {},
   "source": [
    "# Imports"
   ]
  },
  {
   "cell_type": "code",
   "execution_count": 1,
   "metadata": {},
   "outputs": [],
   "source": [
    "# imports\n",
    "import sys\n",
    "sys.path.append('..')\n",
    "import numpy as np\n",
    "from functions import *\n",
    "from networks import *\n",
    "from generate import *\n",
    "import matplotlib.pyplot as plt\n",
    "from tqdm import tqdm"
   ]
  },
  {
   "cell_type": "code",
   "execution_count": 2,
   "metadata": {},
   "outputs": [
    {
     "name": "stdout",
     "output_type": "stream",
     "text": [
      "New Working Directory: /Users/giuliofilippi/Documents/Code/fpm-lightweight/params_fwd\n"
     ]
    }
   ],
   "source": [
    "import os\n",
    "# Change to the directory where the train folder is located\n",
    "os.chdir('../params_fwd')\n",
    "# Verify the change\n",
    "print(\"New Working Directory:\", os.getcwd())"
   ]
  },
  {
   "cell_type": "markdown",
   "metadata": {},
   "source": [
    "# Downsampled Colonies (Vary K)"
   ]
  },
  {
   "cell_type": "code",
   "execution_count": 3,
   "metadata": {},
   "outputs": [],
   "source": [
    "# params\n",
    "input_shape = (20,90)  # Example image shape\n",
    "n_vpn = input_shape[0]*input_shape[1]\n",
    "n_kc = 25000  # Number of Kenyon cells / 2\n",
    "k = 8  # Number of connections per Kenyon cell\n",
    "p = 0.05  # Proportion of strongest firing neurons to keep\n",
    "alpha = 0.95 # Multiplicative factor for decerasing weights\n",
    "mode = 'top'\n",
    "q = 0.8"
   ]
  },
  {
   "cell_type": "code",
   "execution_count": 4,
   "metadata": {},
   "outputs": [
    {
     "name": "stderr",
     "output_type": "stream",
     "text": [
      "100%|██████████| 50/50 [04:36<00:00,  5.54s/it]\n",
      "100%|██████████| 50/50 [04:42<00:00,  5.64s/it]\n",
      "100%|██████████| 50/50 [04:50<00:00,  5.82s/it]\n",
      "100%|██████████| 50/50 [05:05<00:00,  6.10s/it]\n"
     ]
    }
   ],
   "source": [
    "for VAR in [4, 8, 16, 32]:\n",
    "    # set value of param\n",
    "    k = VAR\n",
    "\n",
    "    # Combine parameters into a single string\n",
    "    params_to_write = f\"n_vpn: {n_vpn}\\nn_kc: {n_kc}\\nk: {k}\\np: {p}\\nq: {q}\"\n",
    "\n",
    "    # Step 1: Ensure the directory exists\n",
    "    directory = \"PARAMS/DS_K={}\".format(VAR)\n",
    "    os.makedirs(directory, exist_ok=True)\n",
    "\n",
    "    # Step 2: Open a text file in write mode\n",
    "    with open(os.path.join(directory, \"parameters.txt\"), \"w\") as file:\n",
    "        # Step 3: Write the parameters to the file\n",
    "        file.write(params_to_write)\n",
    "\n",
    "    # 5 initialisations\n",
    "    for i in tqdm(range(50)):\n",
    "        w_l, w_r = generate_fwd_weights(n_vpn, n_kc, k, q)\n",
    "        torch.save(w_l,'PARAMS/DS_K={}/ant_{}_L.pth'.format(VAR, i))\n",
    "        torch.save(w_r,'PARAMS/DS_K={}/ant_{}_R.pth'.format(VAR, i))"
   ]
  },
  {
   "cell_type": "markdown",
   "metadata": {},
   "source": [
    "# Downsampled Colonies (Vary p)"
   ]
  },
  {
   "cell_type": "code",
   "execution_count": 5,
   "metadata": {},
   "outputs": [],
   "source": [
    "# params\n",
    "input_shape = (20,90)  # Example image shape\n",
    "n_vpn = input_shape[0]*input_shape[1]\n",
    "n_kc = 25000  # Number of Kenyon cells / 2\n",
    "k = 8  # Number of connections per Kenyon cell\n",
    "p = 0.05  # Proportion of strongest firing neurons to keep\n",
    "alpha = 0.95 # Multiplicative factor for decerasing weights\n",
    "mode = 'top'\n",
    "q = 0.8"
   ]
  },
  {
   "cell_type": "code",
   "execution_count": 6,
   "metadata": {},
   "outputs": [
    {
     "name": "stderr",
     "output_type": "stream",
     "text": [
      "100%|██████████| 50/50 [04:39<00:00,  5.59s/it]\n",
      "100%|██████████| 50/50 [04:43<00:00,  5.67s/it]\n",
      "100%|██████████| 50/50 [04:45<00:00,  5.72s/it]\n",
      "100%|██████████| 50/50 [04:46<00:00,  5.72s/it]\n"
     ]
    }
   ],
   "source": [
    "for VAR in [0.025, 0.05, 0.1, 0.2]:\n",
    "    # set value of param\n",
    "    p = VAR\n",
    "\n",
    "    # Combine parameters into a single string\n",
    "    params_to_write = f\"n_vpn: {n_vpn}\\nn_kc: {n_kc}\\nk: {k}\\np: {p}\\nq: {q}\"\n",
    "\n",
    "    # Step 1: Ensure the directory exists\n",
    "    directory = \"PARAMS/DS_p={}\".format(VAR)\n",
    "    os.makedirs(directory, exist_ok=True)\n",
    "\n",
    "    # Step 2: Open a text file in write mode\n",
    "    with open(os.path.join(directory, \"parameters.txt\"), \"w\") as file:\n",
    "        # Step 3: Write the parameters to the file\n",
    "        file.write(params_to_write)\n",
    "\n",
    "    # 5 initialisations\n",
    "    for i in tqdm(range(50)):\n",
    "        w_l, w_r = generate_fwd_weights(n_vpn, n_kc, k, q)\n",
    "        torch.save(w_l,'PARAMS/DS_p={}/ant_{}_L.pth'.format(VAR, i))\n",
    "        torch.save(w_r,'PARAMS/DS_p={}/ant_{}_R.pth'.format(VAR, i))"
   ]
  },
  {
   "cell_type": "markdown",
   "metadata": {},
   "source": [
    "# Downsampled Colonies (Vary q)"
   ]
  },
  {
   "cell_type": "code",
   "execution_count": 7,
   "metadata": {},
   "outputs": [],
   "source": [
    "# params\n",
    "input_shape = (20,90)  # Example image shape\n",
    "n_vpn = input_shape[0]*input_shape[1]\n",
    "n_kc = 25000  # Number of Kenyon cells / 2\n",
    "k = 8  # Number of connections per Kenyon cell\n",
    "p = 0.05  # Proportion of strongest firing neurons to keep\n",
    "alpha = 0.95 # Multiplicative factor for decerasing weights\n",
    "mode = 'top'"
   ]
  },
  {
   "cell_type": "code",
   "execution_count": 8,
   "metadata": {},
   "outputs": [
    {
     "name": "stderr",
     "output_type": "stream",
     "text": [
      "100%|██████████| 50/50 [06:13<00:00,  7.47s/it]\n",
      "100%|██████████| 50/50 [04:44<00:00,  5.68s/it]\n",
      "100%|██████████| 50/50 [04:46<00:00,  5.73s/it]\n",
      "100%|██████████| 50/50 [04:42<00:00,  5.66s/it]\n",
      "100%|██████████| 50/50 [04:45<00:00,  5.72s/it]\n",
      "100%|██████████| 50/50 [04:43<00:00,  5.67s/it]\n"
     ]
    }
   ],
   "source": [
    "for VAR in [1, 0.9, 0.8, 0.7, 0.6, 0.5]:\n",
    "    # set value of param\n",
    "    q = VAR\n",
    "\n",
    "    # Combine parameters into a single string\n",
    "    params_to_write = f\"n_vpn: {n_vpn}\\nn_kc: {n_kc}\\nk: {k}\\np: {p}\\nq: {q}\"\n",
    "\n",
    "    # Step 1: Ensure the directory exists\n",
    "    directory = \"PARAMS/DS_q={}\".format(VAR)\n",
    "    os.makedirs(directory, exist_ok=True)\n",
    "\n",
    "    # Step 2: Open a text file in write mode\n",
    "    with open(os.path.join(directory, \"parameters.txt\"), \"w\") as file:\n",
    "        # Step 3: Write the parameters to the file\n",
    "        file.write(params_to_write)\n",
    "\n",
    "    # 5 initialisations\n",
    "    for i in tqdm(range(50)):\n",
    "        w_l, w_r = generate_fwd_weights(n_vpn, n_kc, k, q)\n",
    "        torch.save(w_l,'PARAMS/DS_q={}/ant_{}_L.pth'.format(VAR, i))\n",
    "        torch.save(w_r,'PARAMS/DS_q={}/ant_{}_R.pth'.format(VAR, i))"
   ]
  },
  {
   "cell_type": "code",
   "execution_count": null,
   "metadata": {},
   "outputs": [],
   "source": []
  },
  {
   "cell_type": "code",
   "execution_count": null,
   "metadata": {},
   "outputs": [],
   "source": []
  },
  {
   "cell_type": "code",
   "execution_count": null,
   "metadata": {},
   "outputs": [],
   "source": []
  },
  {
   "cell_type": "code",
   "execution_count": null,
   "metadata": {},
   "outputs": [],
   "source": []
  },
  {
   "cell_type": "code",
   "execution_count": null,
   "metadata": {},
   "outputs": [],
   "source": []
  },
  {
   "cell_type": "code",
   "execution_count": null,
   "metadata": {},
   "outputs": [],
   "source": []
  },
  {
   "cell_type": "code",
   "execution_count": null,
   "metadata": {},
   "outputs": [],
   "source": []
  },
  {
   "cell_type": "code",
   "execution_count": null,
   "metadata": {},
   "outputs": [],
   "source": []
  },
  {
   "cell_type": "code",
   "execution_count": null,
   "metadata": {},
   "outputs": [],
   "source": []
  }
 ],
 "metadata": {
  "kernelspec": {
   "display_name": "antworld",
   "language": "python",
   "name": "python3"
  },
  "language_info": {
   "codemirror_mode": {
    "name": "ipython",
    "version": 3
   },
   "file_extension": ".py",
   "mimetype": "text/x-python",
   "name": "python",
   "nbconvert_exporter": "python",
   "pygments_lexer": "ipython3",
   "version": "3.8.undefined"
  }
 },
 "nbformat": 4,
 "nbformat_minor": 2
}
